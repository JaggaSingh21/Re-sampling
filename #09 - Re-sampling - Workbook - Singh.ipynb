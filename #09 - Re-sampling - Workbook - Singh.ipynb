{
 "cells": [
  {
   "cell_type": "markdown",
   "metadata": {},
   "source": [
    "# Jagwinder Singh"
   ]
  },
  {
   "cell_type": "markdown",
   "metadata": {},
   "source": [
    "## Complete the notebook\n",
    "(version 10/27/2020)"
   ]
  },
  {
   "cell_type": "markdown",
   "metadata": {},
   "source": [
    "## Resampling"
   ]
  },
  {
   "cell_type": "markdown",
   "metadata": {},
   "source": [
    "### Percent Change - Single Starting Point & Resampling"
   ]
  },
  {
   "cell_type": "markdown",
   "metadata": {},
   "source": [
    "1) Enter all imports needed & code to read the Quandl API key from a text file and place it into a variable:"
   ]
  },
  {
   "cell_type": "code",
   "execution_count": null,
   "metadata": {},
   "outputs": [],
   "source": [
    "import quandl\n",
    "import pandas as pd\n",
    "import pickle\n",
    "import matplotlib.pyplot as plt\n",
    "from matplotlib import style\n",
    "style.use('default')\n",
    "\n",
    "api_key = open('quandlapikey.txt','r').read()"
   ]
  },
  {
   "cell_type": "markdown",
   "metadata": {},
   "source": [
    "2) Bulk download data:\n",
    "* Write the code to get the postal codes website HTML code\n",
    "* Write the code to create an empty Pandas Dataframe\n",
    "* Write a loop using the U.S. postal codes to bulk download 'Housing Price Index' for each State from Quandl's API server, do a percent change from a single starting point as the data bulk is downloading and store the downloaded percent data into the empty Pandas Dataframe"
   ]
  },
  {
   "cell_type": "code",
   "execution_count": null,
   "metadata": {
    "scrolled": false
   },
   "outputs": [],
   "source": [
    "fifty_states = pd.read_html('https://www.infoplease.com/us/postal-information/state-abbreviations-and-state-postal-codes')\n",
    "fifty_states = fifty_states[0]['Postal Code']\n",
    "\n",
    "main_df = pd.DataFrame()\n",
    "\n",
    "for abbv in fifty_states:\n",
    "    query = \"FMAC/HPI_\"+str(abbv)\n",
    "    df = quandl.get(query, authtoken=api_key)\n",
    "    df = df[['NSA Value']]\n",
    "    df.rename(columns={'NSA Value':abbv}, inplace=True)\n",
    "    df[abbv] = (df[abbv]-df[abbv][0]) / df[abbv][0] * 100.0\n",
    "        \n",
    "    if main_df.empty: \n",
    "        main_df = df \n",
    "    else:\n",
    "        main_df = main_df.join(df) \n",
    "\n",
    "main_df.to_pickle('fifty_states_pc_ssp.pickle')\n",
    "\n",
    "HPI_data = pd.read_pickle('fifty_states_pc_ssp.pickle')"
   ]
  },
  {
   "cell_type": "markdown",
   "metadata": {},
   "source": [
    "3) Print the head:"
   ]
  },
  {
   "cell_type": "code",
   "execution_count": null,
   "metadata": {},
   "outputs": [],
   "source": [
    "print(HPI_data.head())"
   ]
  },
  {
   "cell_type": "markdown",
   "metadata": {},
   "source": [
    "4) Print the data description of the Dataframe:"
   ]
  },
  {
   "cell_type": "code",
   "execution_count": null,
   "metadata": {},
   "outputs": [],
   "source": [
    "print(HPI_data.describe())"
   ]
  },
  {
   "cell_type": "markdown",
   "metadata": {},
   "source": [
    "### Resampling"
   ]
  },
  {
   "cell_type": "markdown",
   "metadata": {},
   "source": [
    "5) Print the head of the 'FL' column only:"
   ]
  },
  {
   "cell_type": "code",
   "execution_count": null,
   "metadata": {},
   "outputs": [],
   "source": [
    "print(HPI_data['FL'].head())"
   ]
  },
  {
   "cell_type": "markdown",
   "metadata": {},
   "source": [
    "6) Graph column 'FL' only and show legend:"
   ]
  },
  {
   "cell_type": "code",
   "execution_count": null,
   "metadata": {},
   "outputs": [],
   "source": [
    "HPI_data['FL'].plot()\n",
    "plt.legend()\n",
    "plt.show()"
   ]
  },
  {
   "cell_type": "markdown",
   "metadata": {},
   "source": [
    "7) Resample the 'FL' column quarterly and place in a new Dataframe called 'FL_Quarterly':"
   ]
  },
  {
   "cell_type": "code",
   "execution_count": null,
   "metadata": {},
   "outputs": [],
   "source": [
    "FL_Quarterly = HPI_data['FL'].resample('Q').mean() "
   ]
  },
  {
   "cell_type": "markdown",
   "metadata": {},
   "source": [
    "8) Print the head of the 'FL_Quarterly':"
   ]
  },
  {
   "cell_type": "code",
   "execution_count": null,
   "metadata": {},
   "outputs": [],
   "source": [
    "print(FL_Quarterly.head())"
   ]
  },
  {
   "cell_type": "markdown",
   "metadata": {},
   "source": [
    "9) Resample the 'FL' column annually and place in a new Dataframe labeled 'FL_Annually':"
   ]
  },
  {
   "cell_type": "code",
   "execution_count": null,
   "metadata": {},
   "outputs": [],
   "source": [
    "FL_Annually = HPI_data['FL'].resample('A').mean() "
   ]
  },
  {
   "cell_type": "markdown",
   "metadata": {},
   "source": [
    "10) Print the head of the 'FL_Annually' only:"
   ]
  },
  {
   "cell_type": "code",
   "execution_count": null,
   "metadata": {},
   "outputs": [],
   "source": [
    "print(FL_Annually.head())"
   ]
  },
  {
   "cell_type": "markdown",
   "metadata": {},
   "source": [
    "11) Graphically compare the 'FL' data, the 'FL_Quarterly' data and 'FL_Annually' data and show the legend:"
   ]
  },
  {
   "cell_type": "code",
   "execution_count": null,
   "metadata": {},
   "outputs": [],
   "source": [
    "fig = plt.figure()\n",
    "ax1 = plt.subplot2grid((1,1), (0,0))\n",
    "\n",
    "HPI_data['FL'].plot(ax=ax1)\n",
    "FL_Quarterly.plot(color='g',ax=ax1, label='FL_Quarterly')\n",
    "FL_Annually.plot(color='r',ax=ax1, label='FL_Annually')\n",
    "plt.legend()\n",
    "plt.show()"
   ]
  },
  {
   "cell_type": "markdown",
   "metadata": {},
   "source": [
    "### Percent Change - Point to Point & Resampling"
   ]
  },
  {
   "cell_type": "markdown",
   "metadata": {
    "scrolled": false
   },
   "source": [
    "12) Bulk download data:\n",
    "* Write the code to get the postal codes website HTML code\n",
    "* Write the code to create an empty Pandas Dataframe\n",
    "* Write a loop using the U.S. postal codes to bulk download 'Housing Price Index' for each State from Quandl's API server, calculate the point to point percent change and store the calculated downloaded data into the empty Pandas Dataframe"
   ]
  },
  {
   "cell_type": "code",
   "execution_count": null,
   "metadata": {},
   "outputs": [],
   "source": [
    "fifty_states = pd.read_html('https://www.infoplease.com/us/postal-information/state-abbreviations-and-state-postal-codes')\n",
    "fifty_states = fifty_states[0]['Postal Code']\n",
    "\n",
    "main_df = pd.DataFrame()\n",
    "\n",
    "for abbv in fifty_states:\n",
    "    query = \"FMAC/HPI_\"+str(abbv)\n",
    "    df = quandl.get(query, authtoken=api_key) \n",
    "    df = df[['NSA Value']]\n",
    "    df.rename(columns={'NSA Value':abbv}, inplace=True)\n",
    "    df = df.pct_change() \n",
    "\n",
    "    if main_df.empty:\n",
    "        main_df = df\n",
    "    else:\n",
    "        main_df = main_df.join(df, lsuffix=abbv)\n",
    "\n",
    "main_df.to_pickle('fifty_states_pc_p2p_get.pickle')\n",
    "\n",
    "HPI_data = pd.read_pickle('fifty_states_pc_p2p_get.pickle')"
   ]
  },
  {
   "cell_type": "markdown",
   "metadata": {},
   "source": [
    "13) Print the head:"
   ]
  },
  {
   "cell_type": "code",
   "execution_count": null,
   "metadata": {},
   "outputs": [],
   "source": [
    "print(HPI_data.head())"
   ]
  },
  {
   "cell_type": "markdown",
   "metadata": {},
   "source": [
    "14) Print the data description of the Dataframe:"
   ]
  },
  {
   "cell_type": "code",
   "execution_count": null,
   "metadata": {},
   "outputs": [],
   "source": [
    "print(HPI_data.describe())"
   ]
  },
  {
   "cell_type": "markdown",
   "metadata": {},
   "source": [
    "### Resampling"
   ]
  },
  {
   "cell_type": "markdown",
   "metadata": {},
   "source": [
    "15) Print the head of the 'FL' column only:"
   ]
  },
  {
   "cell_type": "code",
   "execution_count": null,
   "metadata": {},
   "outputs": [],
   "source": [
    "print(HPI_data['FL'].head())"
   ]
  },
  {
   "cell_type": "markdown",
   "metadata": {},
   "source": [
    "16) Resample the 'FL' column annually and place in a new Dataframe labeled 'FL_Annually':"
   ]
  },
  {
   "cell_type": "code",
   "execution_count": null,
   "metadata": {},
   "outputs": [],
   "source": [
    "FL_Annually = HPI_data['FL'].resample('A').mean() "
   ]
  },
  {
   "cell_type": "markdown",
   "metadata": {},
   "source": [
    "17) Print the head of the 'FL_Annually':"
   ]
  },
  {
   "cell_type": "code",
   "execution_count": null,
   "metadata": {},
   "outputs": [],
   "source": [
    "print(FL_Annually.head())"
   ]
  },
  {
   "cell_type": "markdown",
   "metadata": {},
   "source": [
    "18) Compare Graphically the column 'FL' and DataFrame 'FL_Annually'; show the legend:"
   ]
  },
  {
   "cell_type": "code",
   "execution_count": null,
   "metadata": {},
   "outputs": [],
   "source": [
    "fig = plt.figure()\n",
    "ax1 = plt.subplot2grid((1,1), (0,0))\n",
    "\n",
    "HPI_data['FL'].plot(ax=ax1)\n",
    "FL_Annually.plot(color='r',ax=ax1, label='FL_Annually')\n",
    "plt.legend()\n",
    "plt.show()"
   ]
  }
 ],
 "metadata": {
  "kernelspec": {
   "display_name": "Python 3",
   "language": "python",
   "name": "python3"
  },
  "language_info": {
   "codemirror_mode": {
    "name": "ipython",
    "version": 3
   },
   "file_extension": ".py",
   "mimetype": "text/x-python",
   "name": "python",
   "nbconvert_exporter": "python",
   "pygments_lexer": "ipython3",
   "version": "3.8.5"
  }
 },
 "nbformat": 4,
 "nbformat_minor": 2
}
